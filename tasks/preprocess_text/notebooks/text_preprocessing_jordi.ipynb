{
 "cells": [
  {
   "cell_type": "code",
   "execution_count": null,
   "metadata": {},
   "outputs": [],
   "source": [
    "# Short instruction to make sure we are working in the right environment\n",
    "!conda info"
   ]
  },
  {
   "cell_type": "code",
   "execution_count": 7,
   "metadata": {
    "colab": {
     "base_uri": "https://localhost:8080/",
     "height": 368
    },
    "id": "DGl4uKSenvb5",
    "outputId": "82cc603b-ee01-431d-d065-22e3eb168cb5"
   },
   "outputs": [],
   "source": [
    "#import libraries\n",
    "import os, io\n",
    "import tempfile\n",
    "import time\n",
    "import re\n",
    "import pdf2image\n",
    "from pdf2image import convert_from_path\n",
    "from pdf2image import convert_from_bytes\n",
    "\n",
    "from PyPDF2 import PdfFileReader\n",
    "\n",
    "from IPython.display import display, Image\n",
    "import pytesseract\n",
    "import tesserocr\n",
    "import pdftotext\n",
    "\n",
    "import pikepdf\n",
    "from pikepdf import Pdf, Page\n",
    "import pdfminer\n",
    "import pdfplumber\n",
    "\n",
    "from pdfminer.pdfparser import PDFParser\n",
    "from pdfminer.pdfdocument import PDFDocument\n",
    "from pdfminer.converter import PDFPageAggregator\n",
    "from pdfminer.pdfinterp import PDFResourceManager, PDFPageInterpreter\n",
    "from pdfminer.converter import TextConverter\n",
    "from pdfminer.layout import LAParams, LTTextBox, LTTextLine\n",
    "from pdfminer.pdfpage import PDFPage\n",
    "from pdfminer.pdfpage import PDFTextExtractionNotAllowed\n",
    "\n",
    "# to import from google drive\n",
    "import pickle\n",
    "import os.path\n",
    "from googleapiclient import discovery\n",
    "from googleapiclient.discovery import build\n",
    "from googleapiclient import errors\n",
    "from google_auth_oauthlib.flow import InstalledAppFlow\n",
    "from google.auth.transport.requests import Request\n",
    "from googleapiclient.http import MediaIoBaseDownload\n",
    "from oauth2client import client\n",
    "from oauth2client import tools\n",
    "from oauth2client.file import Storage\n",
    "from PIL import Image"
   ]
  },
  {
   "cell_type": "code",
   "execution_count": 2,
   "metadata": {
    "scrolled": true
   },
   "outputs": [
    {
     "name": "stdout",
     "output_type": "stream",
     "text": [
      "Files:\n",
      "Copy of Text_extraction_example.ipynb (1ce-FVwyzcNuIXJYNQ1qybKpMSJ6Yn-5V)\n",
      "Work_summary_jordi_201122.xlsx (1KCWqsZ3aUAARRX-6fYcV5rTmxRQulsWp)\n",
      "Work reccoring (1cAorJ-zPaorVAI7KmwDtC5pd0v7w-PS2)\n",
      "OCR.ipynb (1hWljx3wduIk1xJGdkQil2lID7H_Tkvd8)\n",
      "NormativaForestal_Chile.pdf (1PJVk7utukeA1Y0riPo_53gAcCCqQ4D3H)\n",
      "Programa_comision_forestal_mex.pdf (10jCcgdxWFoO0AaQXwWk7RsA0RD77n4la)\n",
      "Copy of 11255.pdf (1HdCavlCXP-tAlaAmjPOm-i7efxUsiIsw)\n",
      "Copy of Nº 004-2020-P-CE-PJ.pdf (1Y5jdAcakQfIP4A5H06c6lQoNBCFk9-me)\n",
      "Copy of 3000.pdf (1rwaPoFock58hHlWIot3KEnUTuEl1p6n7)\n",
      "Document de prova per pdf.pdf (1Z5-HSv2Ktox4UGLMM9MtJgJFCwZ5c70Z)\n"
     ]
    }
   ],
   "source": [
    "# If modifying these scopes, delete the file token.pickle.\n",
    "SCOPES = ['https://www.googleapis.com/auth/drive']\n",
    "\n",
    "\"\"\"Shows basic usage of the Drive v3 API.\n",
    "Prints the names and ids of the first 10 files the user has access to.\n",
    "\"\"\"\n",
    "creds = None\n",
    "# The file token.pickle stores the user's access and refresh tokens, and is\n",
    "# created automatically when the authorization flow completes for the first\n",
    "# time.\n",
    "if os.path.exists('token.pickle'):\n",
    "    with open('token.pickle', 'rb') as token:\n",
    "        creds = pickle.load(token)\n",
    "# If there are no (valid) credentials available, let the user log in.\n",
    "if not creds or not creds.valid:\n",
    "    if creds and creds.expired and creds.refresh_token:\n",
    "        creds.refresh(Request())\n",
    "    else:\n",
    "        flow = InstalledAppFlow.from_client_secrets_file(\n",
    "            'client_secret.json', SCOPES)\n",
    "        creds = flow.run_local_server(port=0)\n",
    "    # Save the credentials for the next run\n",
    "    with open('token.pickle', 'wb') as token:\n",
    "        pickle.dump(creds, token)\n",
    "\n",
    "service = build('drive', 'v3', credentials=creds)\n",
    "\n",
    "# Call the Drive v3 API\n",
    "results = service.files().list(\n",
    "    pageSize=10, fields=\"nextPageToken, files(id, name)\").execute()\n",
    "items = results.get('files', [])\n",
    "\n",
    "if not items:\n",
    "    print('No files found.')\n",
    "else:\n",
    "    print('Files:')\n",
    "    for item in items:\n",
    "        print(u'{0} ({1})'.format(item['name'], item['id']))\n"
   ]
  },
  {
   "cell_type": "code",
   "execution_count": 19,
   "metadata": {},
   "outputs": [
    {
     "name": "stdout",
     "output_type": "stream",
     "text": [
      "Found file: PDF_995_dummy.pdf (1BewQJdPcBesbYpS0Y-SgsmxlhSBVo363)\n",
      "Found file: dummy.pdf (1wls-EM-h4eOeMJTWLrT21DjUGgsvSKGe)\n",
      "Found file: Programa_comision_forestal_mex.pdf (10jCcgdxWFoO0AaQXwWk7RsA0RD77n4la)\n",
      "Found file: Copy of 11255.pdf (1HdCavlCXP-tAlaAmjPOm-i7efxUsiIsw)\n",
      "Found file: Copy of Nº 004-2020-P-CE-PJ.pdf (1Y5jdAcakQfIP4A5H06c6lQoNBCFk9-me)\n",
      "Found file: Copy of 3000.pdf (1rwaPoFock58hHlWIot3KEnUTuEl1p6n7)\n",
      "Found file: Document de prova per pdf.pdf (1Z5-HSv2Ktox4UGLMM9MtJgJFCwZ5c70Z)\n",
      "Found file: Decreto_ejecutivo_57.pdf (1egVmcj6Ssiupf1mX3BEDBUkYBx7r1tfU)\n",
      "Found file: Decreto_ejecutivo.pdf (1_qryhaX0h8obAyLsYzf-u_ph0WVTrL1X)\n",
      "Found file: ORDENANZA REGULADORA DE TALA Y PODA DE NEJAPA.pdf (1QMPmYxavfGy2FiWc9yOuxRyfyEu66aj0)\n"
     ]
    }
   ],
   "source": [
    "# 'application/vnd.google-apps.spreadsheet' and parents in '{}'\".format(folder_id)\n",
    "# \"mimeType = 'application/vnd.google-apps.pdf' and parents in '{}'\".format(folder_id)\n",
    "folder_id = \"1JU2YWwn88_0hwP5EYuF5FB2LLTYVZKND\"\n",
    "filetype = \"application/pdf\"\n",
    "query = f\"'{folder_id}' in parents\"\n",
    "query = f\"mimeType='{filetype}'\"\n",
    "query = f\"'{folder_id}' in parents and mimeType='{filetype}'\"\n",
    "page_token = None\n",
    "while True:\n",
    "    response = service.files().list(q = query,\n",
    "                                    spaces=\"drive\",\n",
    "                                    fields=\"nextPageToken, files(id, name, mimeType)\",\n",
    "                                    pageToken=page_token).execute()\n",
    "    for file in response.get('files', []):\n",
    "        # Process change\n",
    "        print('Found file: %s (%s)' % (file.get('name'), file.get('id')))\n",
    "    page_token = response.get('nextPageToken', None)\n",
    "    if page_token is None:\n",
    "        break"
   ]
  },
  {
   "cell_type": "code",
   "execution_count": 22,
   "metadata": {},
   "outputs": [
    {
     "name": "stdout",
     "output_type": "stream",
     "text": [
      "Download 100%.\n"
     ]
    }
   ],
   "source": [
    "file_id = ['1wls-EM-h4eOeMJTWLrT21DjUGgsvSKGe', '1BewQJdPcBesbYpS0Y-SgsmxlhSBVo363', '10jCcgdxWFoO0AaQXwWk7RsA0RD77n4la', '1egVmcj6Ssiupf1mX3BEDBUkYBx7r1tfU', '1Z5-HSv2Ktox4UGLMM9MtJgJFCwZ5c70Z', '1HdCavlCXP-tAlaAmjPOm-i7efxUsiIsw', '1Y5jdAcakQfIP4A5H06c6lQoNBCFk9-me', '1rwaPoFock58hHlWIot3KEnUTuEl1p6n7']\n",
    "filename = \"Decreto_ejecutivo_57.pdf\"\n",
    "\n",
    "request = service.files().get_media(fileId=file_id[1])\n",
    "\n",
    "fh = io.BytesIO()\n",
    "downloader = MediaIoBaseDownload(fh, request)\n",
    "done = False\n",
    "while done is False:\n",
    "    status, done = downloader.next_chunk()\n",
    "    print(\"Download %d%%.\" % int(status.progress() * 100))"
   ]
  },
  {
   "cell_type": "code",
   "execution_count": 23,
   "metadata": {},
   "outputs": [],
   "source": [
    "# pdf = PdfFileReader(fh)\n",
    "# for page in range(0, pdf.getNumPages()):\n",
    "#     pdf_page = pdf.getPage(page) #Retrieve the content of each page\n",
    "#     pdf_content = pdf_page.extractText()\n",
    "#     if pdf_content == \"\":\n",
    "#         print(\"no text\")"
   ]
  },
  {
   "cell_type": "code",
   "execution_count": 24,
   "metadata": {},
   "outputs": [
    {
     "data": {
      "text/plain": [
       "'APPROVEDAGraphicalRepresentationofInverseVRMLUptakeChangethenumberinredbelowtoadjustfordownloadrateand/orbandwidth.1Thenumber1representsanengineerwithan\"average\"cube*CFMinfswAirEANx32%EANx36%80.0149.12061.4114.431049.892.8462041.978.1023018036.267.4024012031.859.2755080.0147.0192.028.452.96057.092.0123.025.647.7747040.065.079.023.443.5438030.049.059.021.540.0019024.037.045.019.93710019.030.035.018.534.40911016.025.029.017.332.15412013.020.0n/a16.230.17813010.017.0n/a15.128.2021408.0n/an/a0204060801001201400102030405060708090100110120130140DaysafterdownloadInverseusageProgrammersTechnicalWritersQAOther01020304050607080905060708090100110120130140DaysafterdownloadInverselogusageArtistsMusiciansPoliticiansDentists'"
      ]
     },
     "execution_count": 24,
     "metadata": {},
     "output_type": "execute_result"
    }
   ],
   "source": [
    "# pdf_content"
   ]
  },
  {
   "cell_type": "code",
   "execution_count": null,
   "metadata": {},
   "outputs": [],
   "source": [
    "pdf = Pdf.open('../tests/resources/fourpages.pdf')\n",
    "extracted_text = \"\"\n",
    "parser = PDFParser(fh)\n",
    "document = PDFDocument(parser)\n",
    "if not document.is_extractable:\n",
    "    raise PDFTextExtractionNotAllowed\n",
    "sio = io.StringIO()\n",
    "rsrcmgr = PDFResourceManager()\n",
    "laparams = LAParams()\n",
    "device = PDFPageAggregator(rsrcmgr, sio, laparams=laparams)\n",
    "interpreter = PDFPageInterpreter(rsrcmgr, device)\n",
    "\n",
    "\n",
    "for page in PDFPage.create_pages(document):\n",
    "    interpreter.process_page(page)\n",
    "text = sio.getvalue()\n",
    "    \n",
    "#     layout = device.get_result()\n",
    "#     for lt_obj in layout:\n",
    "#         if isinstance(lt_obj, LTTextBox) or isinstance(lt_obj, LTTextLine):\n",
    "#             extracted_text += lt_obj.get_text()\n",
    "#         else:\n",
    "#             print(\"no text to extract\")"
   ]
  },
  {
   "cell_type": "code",
   "execution_count": null,
   "metadata": {
    "scrolled": true
   },
   "outputs": [],
   "source": [
    "file_id = '1egVmcj6Ssiupf1mX3BEDBUkYBx7r1tfU'\n",
    "filename = \"Decreto_ejecutivo_57.pdf\"\n",
    "def open_file_from_Gdrive(file_id):\n",
    "    request = service.files().get_media(fileId=file_id)\n",
    "\n",
    "    fh = io.BytesIO()\n",
    "    downloader = MediaIoBaseDownload(fh, request)\n",
    "    done = False\n",
    "    while done is False:\n",
    "        status, done = downloader.next_chunk()\n",
    "        print(\"Download %d%%.\" % int(status.progress() * 100))\n",
    "    scan = convert_from_bytes(fh.getvalue())\n",
    "    fh.close()\n",
    "    \n",
    "def check_file_content(bytesIO):\n",
    "    bytesIO.getValue()"
   ]
  },
  {
   "cell_type": "code",
   "execution_count": null,
   "metadata": {},
   "outputs": [],
   "source": [
    "extracted_text"
   ]
  },
  {
   "cell_type": "code",
   "execution_count": 5,
   "metadata": {},
   "outputs": [
    {
     "data": {
      "text/plain": [
       "b''"
      ]
     },
     "execution_count": 5,
     "metadata": {},
     "output_type": "execute_result"
    }
   ],
   "source": [
    "fh.read()"
   ]
  },
  {
   "cell_type": "code",
   "execution_count": null,
   "metadata": {},
   "outputs": [],
   "source": [
    "    gradient = np.linspace(0, 1, 256)\n",
    "    gradient = np.vstack((gradient, gradient))\n",
    "    image_data = cmap(gradient, bytes=True)\n",
    "    image = Image.fromarray(image_data, 'RGBA')\n",
    "\n",
    "    # ostream = io.FileIO('../cmaps/' + cmap_name + '.png', 'wb')\n",
    "    # image.save(ostream, format='PNG')\n",
    "    # ostream.close()\n",
    "\n",
    "    ostream = io.BytesIO()\n",
    "    image.save(ostream, format='PNG')\n",
    "    cbar_png_bytes = ostream.getvalue()\n",
    "    ostream.close()\n",
    "\n",
    "    cbar_png_data = base64.b64encode(cbar_png_bytes)\n",
    "    cbar_png_bytes = cbar_png_data.decode('unicode_escape')\n",
    "\n",
    "    return cbar_png_bytes "
   ]
  },
  {
   "cell_type": "code",
   "execution_count": null,
   "metadata": {
    "colab": {
     "base_uri": "https://localhost:8080/"
    },
    "id": "FimvLvM-u_8l",
    "outputId": "fd4e1ae7-dd4d-4ed7-b43b-39ba08da24fb"
   },
   "outputs": [],
   "source": [
    "# Mouting drive Google Drive\n",
    "from google.colab import drive\n",
    "drive.mount('/content/drive/')"
   ]
  },
  {
   "cell_type": "code",
   "execution_count": null,
   "metadata": {
    "id": "o6ShvjPwu5D5"
   },
   "outputs": [],
   "source": [
    "filename = \"Decreto_ejecutivo_57.pdf\" \n",
    "# inp_path = \"/content/drive/MyDrive/WRI-LatinAmerica-Talent/Preprocessing/raw/\"\n",
    "# out_path = \"/content/drive/MyDrive/WRI-LatinAmerica-Talent/Preprocessing/OCR/outputs\"\n",
    "# filepaths = [os.path.join(inp_path, file) for file in os.listdir(inp_path)]\n",
    "# filepaths"
   ]
  },
  {
   "cell_type": "markdown",
   "metadata": {
    "id": "yja9BbqcyhRU"
   },
   "source": [
    "# Checking whether the files are scanned images or true pdfs"
   ]
  },
  {
   "cell_type": "code",
   "execution_count": null,
   "metadata": {
    "id": "mw-88hilyhpj"
   },
   "outputs": [],
   "source": [
    "def is_image(file_path):\n",
    "  with open(file_path, \"rb\") as f:\n",
    "    return pdftotext.PDF(f)\n",
    "    \n"
   ]
  },
  {
   "cell_type": "code",
   "execution_count": null,
   "metadata": {
    "colab": {
     "base_uri": "https://localhost:8080/",
     "height": 265
    },
    "id": "sbcIiEZM-VeX",
    "outputId": "24424171-81dd-470c-8f0f-1612a9cad7d9"
   },
   "outputs": [],
   "source": [
    "print(is_image(filename))"
   ]
  },
  {
   "cell_type": "markdown",
   "metadata": {
    "id": "OMi_Ls1Q9sMY"
   },
   "source": [
    "# Converting pdf to image files and improving quality"
   ]
  },
  {
   "cell_type": "code",
   "execution_count": null,
   "metadata": {
    "id": "PN_nVbz3CWQb"
   },
   "outputs": [],
   "source": [
    "def get_image1(file_path):\n",
    "  \"\"\"Get image out of pdf file_path. Splits pdf file into PIL images of each of its pages.\n",
    "  \"\"\"\n",
    "  return convert_from_path(file_path, 500)\n",
    "\n",
    "# Performance tips according to pdf2image: \n",
    "# Using an output folder is significantly faster if you are using an SSD. Otherwise i/o usually becomes the bottleneck.\n",
    "# Using multiple threads can give you some gains but avoid more than 4 as this will cause i/o bottleneck (even on my NVMe SSD!)."
   ]
  },
  {
   "cell_type": "code",
   "execution_count": null,
   "metadata": {
    "colab": {
     "base_uri": "https://localhost:8080/",
     "height": 1000
    },
    "id": "XPO6NB0V9p-F",
    "outputId": "509d222a-4e45-4b97-8a15-18ccaa16d105"
   },
   "outputs": [],
   "source": [
    "pages = get_image1(filepaths[0])\n",
    "display(pages[0])"
   ]
  },
  {
   "cell_type": "markdown",
   "metadata": {
    "id": "apdTu771Dqek"
   },
   "source": [
    "What can we do here to improve image quality? It already seems pretty good!"
   ]
  },
  {
   "cell_type": "markdown",
   "metadata": {
    "id": "zkkuw4zeqN7w"
   },
   "source": [
    "# Evaluating extraction time from each method and saving text to disk"
   ]
  },
  {
   "cell_type": "code",
   "execution_count": null,
   "metadata": {
    "id": "_ZAMmcd0Cux8"
   },
   "outputs": [],
   "source": [
    "def export_ocr(text, file, extract, out=out_path):\n",
    "  \"\"\" Export ocr output text using extract method to file at out\n",
    "  \"\"\"\n",
    "  filename = f'{os.path.splitext(os.path.basename(file))[0]}_{extract}.txt'\n",
    "  with open(os.path.join(out, filename), 'w') as the_file:\n",
    "    the_file.write(text)\n",
    "\n",
    "def wrap_pagenum(page_text, page_num):\n",
    "  \"\"\" Wrap page_text with page_num tag\n",
    "  \"\"\"\n",
    "  return f\"<p n={page_num}>\" + page_text + \"</p>\""
   ]
  },
  {
   "cell_type": "code",
   "execution_count": null,
   "metadata": {
    "colab": {
     "base_uri": "https://localhost:8080/"
    },
    "id": "QAF9v8G6upxT",
    "outputId": "2073acbb-9368-40be-9a15-7d7b0dc78d8f"
   },
   "outputs": [],
   "source": [
    "# pytesseract extraction\n",
    "start_time = time.time()\n",
    "for file in filepaths:\n",
    "  pages = get_image1(file)\n",
    "  text = \"\"\n",
    "  for pageNum, imgBlob in enumerate(pages):\n",
    "    page_text = pytesseract.image_to_string(imgBlob, lang=\"spa\")\n",
    "    text += wrap_pagenum(page_text, pageNum)\n",
    "  export_ocr(text, file, \"pytesseract\")  # write extracted text to disk\n",
    "print(\"--- %s seconds ---\" % (time.time() - start_time))"
   ]
  },
  {
   "cell_type": "code",
   "execution_count": null,
   "metadata": {
    "colab": {
     "base_uri": "https://localhost:8080/"
    },
    "id": "LU7zWd59mxJA",
    "outputId": "51099797-6607-40ec-cb3b-2c1743335c36"
   },
   "outputs": [],
   "source": [
    "# tesserocr extraction\n",
    "start_time = time.time()\n",
    "for file in filepaths:\n",
    "  pages = get_image1(file)\n",
    "  text = \"\"\n",
    "  for pageNum, imgBlob in enumerate(pages):\n",
    "    page_text = tesserocr.image_to_text(imgBlob, lang=\"spa\")\n",
    "    text += wrap_pagenum(page_text, pageNum)\n",
    "  export_ocr(text, file, \"tesserocr\")  # write extracted text to disk\n",
    "print(\"--- %s seconds ---\" % (time.time() - start_time))"
   ]
  },
  {
   "cell_type": "code",
   "execution_count": null,
   "metadata": {
    "colab": {
     "base_uri": "https://localhost:8080/"
    },
    "id": "4B0W1Sit7yLl",
    "outputId": "cdeaad92-c501-441c-fb8b-65d21d133e70"
   },
   "outputs": [],
   "source": [
    "# tesserocr extraction using the PyTessBaseAPI\n",
    "start_time = time.time()\n",
    "for file in filepaths:\n",
    "  pages = get_image1(file)\n",
    "  text = \"\"\n",
    "  with tesserocr.PyTessBaseAPI(lang=\"spa\") as api:\n",
    "    for pageNum, imgBlob in enumerate(pages):\n",
    "      api.SetImage(imgBlob)\n",
    "      page_text = api.GetUTF8Text()\n",
    "      text += wrap_pagenum(page_text, pageNum)\n",
    "    export_ocr(text, file, \"tesserocr_pytess\")  # write extracted text to disk\n",
    "print(\"--- %s seconds ---\" % (time.time() - start_time))"
   ]
  },
  {
   "cell_type": "markdown",
   "metadata": {
    "id": "0iqp1-DfqezC"
   },
   "source": [
    "It seems that the pytesseract package provides the fastest extraction and by looking at the extracted text it doesn't seem to exist any difference in the output of all the tested methods."
   ]
  },
  {
   "cell_type": "code",
   "execution_count": null,
   "metadata": {
    "colab": {
     "base_uri": "https://localhost:8080/"
    },
    "id": "sJi99vMuq0qY",
    "outputId": "241af4c3-a8ad-4660-b6b7-de341d02e8bf"
   },
   "outputs": [],
   "source": [
    "# comparison between text extracted by the different methods\n",
    "os.listdir(out_path)"
   ]
  },
  {
   "cell_type": "code",
   "execution_count": null,
   "metadata": {
    "id": "qLrB4355IW9o"
   },
   "outputs": [],
   "source": [
    "# TODO: perform a more programatical comparison between extracted texts"
   ]
  },
  {
   "cell_type": "markdown",
   "metadata": {
    "id": "keQsJEqBGG5I"
   },
   "source": [
    "# Let's look at the extracted text"
   ]
  },
  {
   "cell_type": "code",
   "execution_count": null,
   "metadata": {
    "colab": {
     "base_uri": "https://localhost:8080/",
     "height": 661
    },
    "id": "b8Yg9yO5IVzt",
    "outputId": "6ec125d5-f519-4efd-f63f-ec919fe7ad83"
   },
   "outputs": [],
   "source": [
    "with open(os.path.join(out_path, 'Decreto_ejecutivo_57_pytesseract.txt')) as text:\n",
    "  extracted_text = text.read()\n",
    "extracted_text"
   ]
  },
  {
   "cell_type": "code",
   "execution_count": null,
   "metadata": {
    "colab": {
     "base_uri": "https://localhost:8080/"
    },
    "id": "8JwnZJ8UIwgR",
    "outputId": "bf656933-9c0d-4df6-e396-7f751d0e6311"
   },
   "outputs": [],
   "source": [
    "# Replace \\x0c (page break) by \\n\n",
    "# Match 1 or more occurrences of \\n if preceeded by one occurrence of \\n OR \n",
    "# Match 1 or more occurrences of \\s (whitespace) if preceeded by one occurrence of \\n OR \n",
    "# Match one occurrence of \\n if it isn't followed by \\n\n",
    "print(re.sub(\"(?<=\\n)\\n+|(?<=\\n)\\s+|\\n(?!\\n)\", \" \", extracted_text.replace(\"\\x0c\", \"\\n\")))"
   ]
  },
  {
   "cell_type": "code",
   "execution_count": null,
   "metadata": {
    "id": "nHaDF7YQKeN6"
   },
   "outputs": [],
   "source": []
  }
 ],
 "metadata": {
  "colab": {
   "collapsed_sections": [],
   "name": "OCR.ipynb",
   "provenance": []
  },
  "kernelspec": {
   "display_name": "Python 3",
   "language": "python",
   "name": "python3"
  },
  "language_info": {
   "codemirror_mode": {
    "name": "ipython",
    "version": 3
   },
   "file_extension": ".py",
   "mimetype": "text/x-python",
   "name": "python",
   "nbconvert_exporter": "python",
   "pygments_lexer": "ipython3",
   "version": "3.7.9"
  }
 },
 "nbformat": 4,
 "nbformat_minor": 1
}
