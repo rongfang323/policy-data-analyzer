{
 "cells": [
  {
   "cell_type": "markdown",
   "metadata": {
    "id": "fiQBQ95YqmNf"
   },
   "source": [
    "# Negative Knowledge Domain Keywords\n",
    "\n",
    "This notebook is to manually build a keyword dictionary. This particular dictionary contains what we call negative keywords. Negative keywords are those keywords that are used to remove policies from the scraping process. For instance, some document have been scraped because it contains a word related with \"environment\" but then it turns out that it is a nomination for an institutional post or somthing related with telecomunications. With the negative keywords \"Designa director\" or \"Telefonía\" we can remove these documents from the final list of scraped documents."
   ]
  },
  {
   "cell_type": "markdown",
   "metadata": {},
   "source": [
    "## Dependencies"
   ]
  },
  {
   "cell_type": "code",
   "execution_count": 1,
   "metadata": {
    "executionInfo": {
     "elapsed": 754,
     "status": "ok",
     "timestamp": 1605869484442,
     "user": {
      "displayName": "Jordi Planas",
      "photoUrl": "",
      "userId": "02408961736589621402"
     },
     "user_tz": -60
    },
    "id": "-KIgZdT8Ddg1"
   },
   "outputs": [],
   "source": [
    "import json"
   ]
  },
  {
   "cell_type": "markdown",
   "metadata": {},
   "source": [
    "## Dictionary\n",
    "\n",
    "This is a \"user frienly\" to manually enter data in a dictionary which can later be transformed into a json file."
   ]
  },
  {
   "cell_type": "code",
   "execution_count": 2,
   "metadata": {
    "executionInfo": {
     "elapsed": 741,
     "status": "ok",
     "timestamp": 1605869486297,
     "user": {
      "displayName": "Jordi Planas",
      "photoUrl": "",
      "userId": "02408961736589621402"
     },
     "user_tz": -60
    },
    "id": "nWYEtOSeqj-Y"
   },
   "outputs": [],
   "source": [
    "keywords = {\n",
    "\t\t'Aceptan renuncia' : 0,\n",
    "\t\t'Acepta renuncia' : 0,\n",
    "\t\t'Acuicultura': 0,\n",
    "\t\t'Aprueban expedición' : 0,\n",
    "\t\t'Archivo general de la nación' : 0,\n",
    "\t\t'Arqueológica' : 0,\n",
    "\t\t'Arqueológicas' : 0,\n",
    "\t\t'Arqueológico' : 0,\n",
    "\t\t'Arqueológicos' : 0,\n",
    "\t\t'Artefactos navales' : 0,\n",
    "\t\t'Asociación religiosa' : 0,\n",
    "\t\t'Atmosférica' : 0,\n",
    "\t\t'Atmosférico' : 0,\n",
    "\t\t'Autorizan viaje' : 0,\n",
    "\t\t'Aviación' : 0,\n",
    "\t\t'Calidad del aire' : 0,\n",
    "\t\t'Certificados de estudios' : 0,\n",
    "\t\t'Condiciones empresas instaladoras' : 0,\n",
    "\t\t'Congregación' : 0,\n",
    "\t\t'Consejo de la judicatura' : 0,\n",
    "\t\t'Consejo de seguridad' : 0,\n",
    "\t\t'Contaminación sonora' : 0,\n",
    "\t\t'Contraloría general' : 0,\n",
    "\t\t'Contrato Ley de la Industria' : 0,\n",
    "\t\t'Convivencia ciudadana' : 0,\n",
    "\t\t'Datos personales' : 0,\n",
    "\t\t'Declara desierto concurso' : 0,\n",
    "\t\t'Declara desierto el concurso' : 0,\n",
    "\t\t'Declaran desierto concurso' : 0,\n",
    "\t\t'Declaran desierto el concurso' : 0,\n",
    "\t\t'Declara desierto proceso' : 0,\n",
    "\t\t'Declaran vacancia' : 0,\n",
    "\t\t'Declara vacante' : 0,\n",
    "\t\t'Delimitación' : 0,\n",
    "\t\t'Desechos' : 0,\n",
    "\t\t'Designa director' : 0,\n",
    "\t\t'Designa directora' : 0,\n",
    "\t\t'Designa ministro' : 0,\n",
    "\t\t'Designa vicepresidente' : 0,\n",
    "\t\t'Designan asesor' : 0,\n",
    "\t\t'Designan asesora' : 0,\n",
    "\t\t'Designan asesores' : 0,\n",
    "\t\t'Designan coordinador' : 0,\n",
    "\t\t'Designan coordinadora' : 0,\n",
    "\t\t'Designan coordinadores': 0,\n",
    "\t\t'Designan director' : 0,\n",
    "\t\t'Designan directora' : 0,\n",
    "\t\t'Designan directivos' : 0,\n",
    "\t\t'Designan ejecutor' : 0,\n",
    "\t\t'Designan ejecutora' : 0,\n",
    "\t\t'Designan funcionario' : 0,\n",
    "\t\t'Designan funcionaria' : 0,\n",
    "\t\t'Designan funcionarios' : 0,\n",
    "\t\t'Designan funcionarias' : 0,\n",
    "\t\t'Designan gerente' : 0,\n",
    "\t\t'Designan gerentes' : 0,\n",
    "\t\t'Designan jefe' : 0,\n",
    "\t\t'Designan jefa' : 0,\n",
    "\t\t'Designan miembro' : 0,\n",
    "\t\t'Designan miembros' : 0,\n",
    "\t\t'Designan presidente' : 0,\n",
    "\t\t'Designan presidenta' : 0,\n",
    "\t\t'Designan representante' : 0,\n",
    "\t\t'Designan representantes' : 0,\n",
    "\t\t'Designan responsable' : 0,\n",
    "\t\t'Designan responsables' : 0,\n",
    "\t\t'Designan secretario' : 0,\n",
    "\t\t'Designan secretaria' : 0,\n",
    "\t\t'Designan subdirector' : 0,\n",
    "\t\t'Designan subdirectora' : 0,\n",
    "\t\t'Designan sub director' : 0,\n",
    "\t\t'Designan sub directora' : 0,\n",
    "\t\t'Educación de los adultos' : 0,\n",
    "\t\t'Educación pública' : 0,\n",
    "\t\t'Educación superior' : 0,\n",
    "\t\t'Energía eléctrica' : 0,\n",
    "\t\t'Espectáculos públicos' : 0,\n",
    "\t\t'Establecimientos educacionales' : 0,\n",
    "\t\t'Estatuto orgánico' : 0,\n",
    "\t\t'Familia' : 0,\n",
    "\t\t'Familiar' : 0,\n",
    "\t\t'Farmacovigilancia' : 0,\n",
    "\t\t'Funcionario' : 0,\n",
    "\t\t'Funcionarios' : 0,\n",
    "\t\t'Indústria de la construcción' : 0,\n",
    "\t\t'Inmueble' : 0,\n",
    "\t\t'Juegos florales' : 0,\n",
    "\t\t'Matrimonio civil' : 0,\n",
    "\t\t'Migraciones' : 0,\n",
    "\t\t'Nacionalización del inmueble' : 0,\n",
    "\t\t'Nombra' : 0,\n",
    "\t\t'Nombramiento' : 0,\n",
    "\t\t'Organización política' : 0,\n",
    "\t\t'Otorgan duplicado' : 0,\n",
    "\t\t'Otorgan duplicados' : 0,\n",
    "\t\t'Pasan a la situación de retiro' : 0,\n",
    "\t\t'Penitenciario' : 0,\n",
    "\t\t'Personas desplazadas internas' : 0,\n",
    "\t\t'Persona natural' : 0,\n",
    "\t\t'Personas naturales' : 0,\n",
    "\t\t'Pesca de investigación' : 0,\n",
    "\t\t'Pesquería' : 0,\n",
    "\t\t'Planta de personal' : 0,\n",
    "\t\t'Plantas del personal' : 0,\n",
    "\t\t'Planta envasadora' : 0,\n",
    "\t\t'Plantas envasadoras' : 0,\n",
    "\t\t'Planta nacional' : 0,\n",
    "\t\t'Portuaria' : 0,\n",
    "\t\t'Portuario' : 0,\n",
    "\t\t'Publicitario' : 0,\n",
    "\t\t'Pobreza' : 0,\n",
    "\t\t'Radiaciones' : 0,\n",
    "\t\t'Radiodifusión' : 0,\n",
    "\t\t'Redes eléctricas' : 0,\n",
    "\t\t'Resíduos' : 0,\n",
    "\t\t'Reglamento orgánico' : 0,\n",
    "\t\t'Salario mínimo' : 0,\n",
    "\t\t'Salmónidos' : 0,\n",
    "\t\t'Salud ambiental' : 0,\n",
    "\t\t'Tasas municipales' : 0,\n",
    "\t\t'Tasas por servicios municipales' : 0,\n",
    "\t\t'Tasas, que el municipio' : 0,\n",
    "\t\t'Telecomunicaciones' : 0,\n",
    "\t\t'Telefonía' : 0,\n",
    "\t\t'Televisión' : 0,\n",
    "\t\t'Universidad' : 0,\n",
    "\t\t'Vacante cargo' : 0,\n",
    "\t\t'Vivienda' : 0\n",
    "}"
   ]
  },
  {
   "cell_type": "code",
   "execution_count": null,
   "metadata": {
    "colab": {
     "base_uri": "https://localhost:8080/"
    },
    "executionInfo": {
     "elapsed": 710,
     "status": "ok",
     "timestamp": 1605869605201,
     "user": {
      "displayName": "Jordi Planas",
      "photoUrl": "",
      "userId": "02408961736589621402"
     },
     "user_tz": -60
    },
    "id": "TZvXdk6svYz_",
    "outputId": "24620648-a42e-49b1-8fa7-24915f16c596"
   },
   "outputs": [],
   "source": [
    "len(keywords)"
   ]
  },
  {
   "cell_type": "markdown",
   "metadata": {},
   "source": [
    "## Saving JSON in google colaboration"
   ]
  },
  {
   "cell_type": "code",
   "execution_count": null,
   "metadata": {
    "colab": {
     "base_uri": "https://localhost:8080/"
    },
    "executionInfo": {
     "elapsed": 48512,
     "status": "ok",
     "timestamp": 1605869657439,
     "user": {
      "displayName": "Jordi Planas",
      "photoUrl": "",
      "userId": "02408961736589621402"
     },
     "user_tz": -60
    },
    "id": "VGDASLYZQsdO",
    "outputId": "2d61b80a-102d-49b5-aec4-c58340b490be"
   },
   "outputs": [],
   "source": [
    "from google.colab import drive\n",
    "drive.mount('/content/drive/')"
   ]
  },
  {
   "cell_type": "code",
   "execution_count": null,
   "metadata": {
    "executionInfo": {
     "elapsed": 2245,
     "status": "ok",
     "timestamp": 1605869707773,
     "user": {
      "displayName": "Jordi Planas",
      "photoUrl": "",
      "userId": "02408961736589621402"
     },
     "user_tz": -60
    },
    "id": "hi9oKzbOqlrW"
   },
   "outputs": [],
   "source": [
    "with open('/content/drive/My Drive/Official Folder of WRI Latin America Project/Omdena Challenge/task4_web_scraping/Google_Search_Scraping/negative_keywords_knowledge_domain.json', 'w') as dict:\n",
    "    json.dump(keywords, dict)"
   ]
  },
  {
   "cell_type": "code",
   "execution_count": null,
   "metadata": {
    "colab": {
     "base_uri": "https://localhost:8080/",
     "height": 17
    },
    "executionInfo": {
     "elapsed": 552,
     "status": "ok",
     "timestamp": 1605869987795,
     "user": {
      "displayName": "Jordi Planas",
      "photoUrl": "",
      "userId": "02408961736589621402"
     },
     "user_tz": -60
    },
    "id": "WTzADyIfbttS",
    "outputId": "54fb63b1-1296-4a16-9c66-d244b1216b63"
   },
   "outputs": [],
   "source": [
    "from google.colab import files\n",
    "files.download('/content/drive/My Drive/Official Folder of WRI Latin America Project/Omdena Challenge/task4_web_scraping/Google_Search_Scraping/negative_keywords_knowledge_domain.json')"
   ]
  },
  {
   "cell_type": "markdown",
   "metadata": {
    "id": "K5d-5jGCTa1q"
   },
   "source": [
    "## Saving JSON in the local folder of the scrapy project"
   ]
  },
  {
   "cell_type": "code",
   "execution_count": 3,
   "metadata": {},
   "outputs": [],
   "source": [
    "# path = \"../output/\"\n",
    "filename = \"negative_keywords_knowledge_domain.json\"\n",
    "# file = path + filename\n",
    "\n",
    "with open(filename, 'w') as fp:\n",
    "    json.dump(keywords, fp)"
   ]
  },
  {
   "cell_type": "code",
   "execution_count": null,
   "metadata": {},
   "outputs": [],
   "source": []
  }
 ],
 "metadata": {
  "colab": {
   "collapsed_sections": [],
   "name": "Negative_Keywords_Knowledge_Domain.ipynb",
   "provenance": [],
   "toc_visible": true
  },
  "kernelspec": {
   "display_name": "Python 3",
   "language": "python",
   "name": "python3"
  },
  "language_info": {
   "codemirror_mode": {
    "name": "ipython",
    "version": 3
   },
   "file_extension": ".py",
   "mimetype": "text/x-python",
   "name": "python",
   "nbconvert_exporter": "python",
   "pygments_lexer": "ipython3",
   "version": "3.8.5"
  },
  "toc": {
   "base_numbering": 1,
   "nav_menu": {},
   "number_sections": true,
   "sideBar": true,
   "skip_h1_title": false,
   "title_cell": "Table of Contents",
   "title_sidebar": "Contents",
   "toc_cell": false,
   "toc_position": {},
   "toc_section_display": true,
   "toc_window_display": true
  }
 },
 "nbformat": 4,
 "nbformat_minor": 1
}
